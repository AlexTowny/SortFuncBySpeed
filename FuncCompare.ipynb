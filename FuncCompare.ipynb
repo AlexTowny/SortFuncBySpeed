{
 "cells": [
  {
   "cell_type": "markdown",
   "metadata": {},
   "source": [
    "# FuncCompare3000"
   ]
  },
  {
   "cell_type": "markdown",
   "metadata": {},
   "source": [
    "*Simple way to compare fast of your functions*"
   ]
  },
  {
   "cell_type": "code",
   "execution_count": null,
   "metadata": {},
   "outputs": [],
   "source": [
    "!pip3 install sympy"
   ]
  },
  {
   "cell_type": "code",
   "execution_count": 1,
   "metadata": {},
   "outputs": [],
   "source": [
    "import sympy as su"
   ]
  },
  {
   "cell_type": "code",
   "execution_count": 2,
   "metadata": {},
   "outputs": [],
   "source": [
    "def fac(k):\n",
    "    ans = 1.0\n",
    "    for i in range(1,k):\n",
    "        ans *= i\n",
    "    return ans"
   ]
  },
  {
   "cell_type": "markdown",
   "metadata": {},
   "source": [
    "Enter your functions expressions.\n",
    "One line - one expression."
   ]
  },
  {
   "cell_type": "code",
   "execution_count": 3,
   "metadata": {},
   "outputs": [],
   "source": [
    "n = su.symbols('n')"
   ]
  },
  {
   "cell_type": "code",
   "execution_count": 8,
   "metadata": {},
   "outputs": [],
   "source": [
    "expr_arr = [\"pow(1/3,n)\",\"17\",\"su.log(n,2)\",\"su.sqrt(n)\",\"n\",\"pow(n,3)\",\"pow(3/2,n)\",\"pow(n,2)\"]"
   ]
  },
  {
   "cell_type": "code",
   "execution_count": 9,
   "metadata": {},
   "outputs": [],
   "source": [
    "def compr(i1, i2):\n",
    "    limit_expr = su.limit(eval(expr_arr[i1])/eval(expr_arr[i2]), n, su.oo)\n",
    "    return limit_expr==su.oo"
   ]
  },
  {
   "cell_type": "code",
   "execution_count": 10,
   "metadata": {},
   "outputs": [
    {
     "name": "stdout",
     "output_type": "stream",
     "text": [
      "['pow(1/3,n)', '17', 'su.log(n,2)', 'su.sqrt(n)', 'n', 'pow(n,2)', 'pow(n,3)', 'pow(3/2,n)']\n"
     ]
    }
   ],
   "source": [
    "def bubble_sort(exprs):\n",
    "    swapped = True\n",
    "    while swapped:\n",
    "        swapped = False\n",
    "        for i in range(len(exprs) - 1):\n",
    "            if compr(i, i+1):\n",
    "                exprs[i], exprs[i + 1] = exprs[i + 1], exprs[i]\n",
    "                swapped = True\n",
    "    return exprs\n",
    "\n",
    "print(bubble_sort(expr_arr))"
   ]
  },
  {
   "cell_type": "code",
   "execution_count": null,
   "metadata": {},
   "outputs": [],
   "source": []
  },
  {
   "cell_type": "code",
   "execution_count": null,
   "metadata": {},
   "outputs": [],
   "source": []
  }
 ],
 "metadata": {
  "kernelspec": {
   "display_name": "Python 3",
   "language": "python",
   "name": "python3"
  },
  "language_info": {
   "codemirror_mode": {
    "name": "ipython",
    "version": 3
   },
   "file_extension": ".py",
   "mimetype": "text/x-python",
   "name": "python",
   "nbconvert_exporter": "python",
   "pygments_lexer": "ipython3",
   "version": "3.8.3"
  }
 },
 "nbformat": 4,
 "nbformat_minor": 2
}
